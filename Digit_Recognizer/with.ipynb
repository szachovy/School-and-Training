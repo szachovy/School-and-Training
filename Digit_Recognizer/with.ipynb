{
 "cells": [
  {
   "cell_type": "markdown",
   "metadata": {},
   "source": [
    "# digit-recognizer"
   ]
  },
  {
   "cell_type": "markdown",
   "metadata": {},
   "source": [
    "## Data fetching with analytic explanation"
   ]
  },
  {
   "cell_type": "code",
   "execution_count": 1,
   "metadata": {},
   "outputs": [
    {
     "name": "stderr",
     "output_type": "stream",
     "text": [
      "Using TensorFlow backend.\n"
     ]
    }
   ],
   "source": [
    "import numpy as np\n",
    "import pandas as pd\n",
    "import matplotlib.pyplot as plt\n",
    "import seaborn as sns\n",
    "\n",
    "from keras import backend as K\n",
    "from keras.utils import to_categorical\n",
    "from keras.preprocessing.image import ImageDataGenerator\n",
    "from keras.models import Sequential\n",
    "from keras.layers import Conv2D, Dense, Flatten, MaxPooling2D, Dropout\n",
    "from keras.optimizers import SGD\n",
    "\n",
    "import warnings\n",
    "warnings.filterwarnings('ignore')\n",
    "warnings.simplefilter('ignore')\n",
    "\n",
    "sns.set()\n",
    "\n",
    "%matplotlib inline"
   ]
  },
  {
   "cell_type": "code",
   "execution_count": 2,
   "metadata": {},
   "outputs": [
    {
     "data": {
      "text/plain": [
       "'tensorflow'"
      ]
     },
     "execution_count": 2,
     "metadata": {},
     "output_type": "execute_result"
    }
   ],
   "source": [
    "# check current keras backend \n",
    "K.backend()"
   ]
  },
  {
   "cell_type": "code",
   "execution_count": 3,
   "metadata": {},
   "outputs": [],
   "source": [
    "data_train = pd.read_csv('data/train.csv')\n",
    "data_test = pd.read_csv('data/test.csv')"
   ]
  },
  {
   "cell_type": "code",
   "execution_count": 4,
   "metadata": {},
   "outputs": [
    {
     "data": {
      "text/html": [
       "<div>\n",
       "<style scoped>\n",
       "    .dataframe tbody tr th:only-of-type {\n",
       "        vertical-align: middle;\n",
       "    }\n",
       "\n",
       "    .dataframe tbody tr th {\n",
       "        vertical-align: top;\n",
       "    }\n",
       "\n",
       "    .dataframe thead th {\n",
       "        text-align: right;\n",
       "    }\n",
       "</style>\n",
       "<table border=\"1\" class=\"dataframe\">\n",
       "  <thead>\n",
       "    <tr style=\"text-align: right;\">\n",
       "      <th></th>\n",
       "      <th>label</th>\n",
       "      <th>pixel0</th>\n",
       "      <th>pixel1</th>\n",
       "      <th>pixel2</th>\n",
       "      <th>pixel3</th>\n",
       "      <th>pixel4</th>\n",
       "      <th>pixel5</th>\n",
       "      <th>pixel6</th>\n",
       "      <th>pixel7</th>\n",
       "      <th>pixel8</th>\n",
       "      <th>...</th>\n",
       "      <th>pixel774</th>\n",
       "      <th>pixel775</th>\n",
       "      <th>pixel776</th>\n",
       "      <th>pixel777</th>\n",
       "      <th>pixel778</th>\n",
       "      <th>pixel779</th>\n",
       "      <th>pixel780</th>\n",
       "      <th>pixel781</th>\n",
       "      <th>pixel782</th>\n",
       "      <th>pixel783</th>\n",
       "    </tr>\n",
       "  </thead>\n",
       "  <tbody>\n",
       "    <tr>\n",
       "      <th>0</th>\n",
       "      <td>1</td>\n",
       "      <td>0</td>\n",
       "      <td>0</td>\n",
       "      <td>0</td>\n",
       "      <td>0</td>\n",
       "      <td>0</td>\n",
       "      <td>0</td>\n",
       "      <td>0</td>\n",
       "      <td>0</td>\n",
       "      <td>0</td>\n",
       "      <td>...</td>\n",
       "      <td>0</td>\n",
       "      <td>0</td>\n",
       "      <td>0</td>\n",
       "      <td>0</td>\n",
       "      <td>0</td>\n",
       "      <td>0</td>\n",
       "      <td>0</td>\n",
       "      <td>0</td>\n",
       "      <td>0</td>\n",
       "      <td>0</td>\n",
       "    </tr>\n",
       "    <tr>\n",
       "      <th>1</th>\n",
       "      <td>0</td>\n",
       "      <td>0</td>\n",
       "      <td>0</td>\n",
       "      <td>0</td>\n",
       "      <td>0</td>\n",
       "      <td>0</td>\n",
       "      <td>0</td>\n",
       "      <td>0</td>\n",
       "      <td>0</td>\n",
       "      <td>0</td>\n",
       "      <td>...</td>\n",
       "      <td>0</td>\n",
       "      <td>0</td>\n",
       "      <td>0</td>\n",
       "      <td>0</td>\n",
       "      <td>0</td>\n",
       "      <td>0</td>\n",
       "      <td>0</td>\n",
       "      <td>0</td>\n",
       "      <td>0</td>\n",
       "      <td>0</td>\n",
       "    </tr>\n",
       "    <tr>\n",
       "      <th>2</th>\n",
       "      <td>1</td>\n",
       "      <td>0</td>\n",
       "      <td>0</td>\n",
       "      <td>0</td>\n",
       "      <td>0</td>\n",
       "      <td>0</td>\n",
       "      <td>0</td>\n",
       "      <td>0</td>\n",
       "      <td>0</td>\n",
       "      <td>0</td>\n",
       "      <td>...</td>\n",
       "      <td>0</td>\n",
       "      <td>0</td>\n",
       "      <td>0</td>\n",
       "      <td>0</td>\n",
       "      <td>0</td>\n",
       "      <td>0</td>\n",
       "      <td>0</td>\n",
       "      <td>0</td>\n",
       "      <td>0</td>\n",
       "      <td>0</td>\n",
       "    </tr>\n",
       "    <tr>\n",
       "      <th>3</th>\n",
       "      <td>4</td>\n",
       "      <td>0</td>\n",
       "      <td>0</td>\n",
       "      <td>0</td>\n",
       "      <td>0</td>\n",
       "      <td>0</td>\n",
       "      <td>0</td>\n",
       "      <td>0</td>\n",
       "      <td>0</td>\n",
       "      <td>0</td>\n",
       "      <td>...</td>\n",
       "      <td>0</td>\n",
       "      <td>0</td>\n",
       "      <td>0</td>\n",
       "      <td>0</td>\n",
       "      <td>0</td>\n",
       "      <td>0</td>\n",
       "      <td>0</td>\n",
       "      <td>0</td>\n",
       "      <td>0</td>\n",
       "      <td>0</td>\n",
       "    </tr>\n",
       "    <tr>\n",
       "      <th>4</th>\n",
       "      <td>0</td>\n",
       "      <td>0</td>\n",
       "      <td>0</td>\n",
       "      <td>0</td>\n",
       "      <td>0</td>\n",
       "      <td>0</td>\n",
       "      <td>0</td>\n",
       "      <td>0</td>\n",
       "      <td>0</td>\n",
       "      <td>0</td>\n",
       "      <td>...</td>\n",
       "      <td>0</td>\n",
       "      <td>0</td>\n",
       "      <td>0</td>\n",
       "      <td>0</td>\n",
       "      <td>0</td>\n",
       "      <td>0</td>\n",
       "      <td>0</td>\n",
       "      <td>0</td>\n",
       "      <td>0</td>\n",
       "      <td>0</td>\n",
       "    </tr>\n",
       "  </tbody>\n",
       "</table>\n",
       "<p>5 rows × 785 columns</p>\n",
       "</div>"
      ],
      "text/plain": [
       "   label  pixel0  pixel1  pixel2  pixel3  pixel4  pixel5  pixel6  pixel7  \\\n",
       "0      1       0       0       0       0       0       0       0       0   \n",
       "1      0       0       0       0       0       0       0       0       0   \n",
       "2      1       0       0       0       0       0       0       0       0   \n",
       "3      4       0       0       0       0       0       0       0       0   \n",
       "4      0       0       0       0       0       0       0       0       0   \n",
       "\n",
       "   pixel8  ...  pixel774  pixel775  pixel776  pixel777  pixel778  pixel779  \\\n",
       "0       0  ...         0         0         0         0         0         0   \n",
       "1       0  ...         0         0         0         0         0         0   \n",
       "2       0  ...         0         0         0         0         0         0   \n",
       "3       0  ...         0         0         0         0         0         0   \n",
       "4       0  ...         0         0         0         0         0         0   \n",
       "\n",
       "   pixel780  pixel781  pixel782  pixel783  \n",
       "0         0         0         0         0  \n",
       "1         0         0         0         0  \n",
       "2         0         0         0         0  \n",
       "3         0         0         0         0  \n",
       "4         0         0         0         0  \n",
       "\n",
       "[5 rows x 785 columns]"
      ]
     },
     "execution_count": 4,
     "metadata": {},
     "output_type": "execute_result"
    }
   ],
   "source": [
    "data_train.head()"
   ]
  },
  {
   "cell_type": "code",
   "execution_count": 5,
   "metadata": {},
   "outputs": [
    {
     "data": {
      "text/html": [
       "<div>\n",
       "<style scoped>\n",
       "    .dataframe tbody tr th:only-of-type {\n",
       "        vertical-align: middle;\n",
       "    }\n",
       "\n",
       "    .dataframe tbody tr th {\n",
       "        vertical-align: top;\n",
       "    }\n",
       "\n",
       "    .dataframe thead th {\n",
       "        text-align: right;\n",
       "    }\n",
       "</style>\n",
       "<table border=\"1\" class=\"dataframe\">\n",
       "  <thead>\n",
       "    <tr style=\"text-align: right;\">\n",
       "      <th></th>\n",
       "      <th>pixel0</th>\n",
       "      <th>pixel1</th>\n",
       "      <th>pixel2</th>\n",
       "      <th>pixel3</th>\n",
       "      <th>pixel4</th>\n",
       "      <th>pixel5</th>\n",
       "      <th>pixel6</th>\n",
       "      <th>pixel7</th>\n",
       "      <th>pixel8</th>\n",
       "      <th>pixel9</th>\n",
       "      <th>...</th>\n",
       "      <th>pixel774</th>\n",
       "      <th>pixel775</th>\n",
       "      <th>pixel776</th>\n",
       "      <th>pixel777</th>\n",
       "      <th>pixel778</th>\n",
       "      <th>pixel779</th>\n",
       "      <th>pixel780</th>\n",
       "      <th>pixel781</th>\n",
       "      <th>pixel782</th>\n",
       "      <th>pixel783</th>\n",
       "    </tr>\n",
       "  </thead>\n",
       "  <tbody>\n",
       "    <tr>\n",
       "      <th>0</th>\n",
       "      <td>0</td>\n",
       "      <td>0</td>\n",
       "      <td>0</td>\n",
       "      <td>0</td>\n",
       "      <td>0</td>\n",
       "      <td>0</td>\n",
       "      <td>0</td>\n",
       "      <td>0</td>\n",
       "      <td>0</td>\n",
       "      <td>0</td>\n",
       "      <td>...</td>\n",
       "      <td>0</td>\n",
       "      <td>0</td>\n",
       "      <td>0</td>\n",
       "      <td>0</td>\n",
       "      <td>0</td>\n",
       "      <td>0</td>\n",
       "      <td>0</td>\n",
       "      <td>0</td>\n",
       "      <td>0</td>\n",
       "      <td>0</td>\n",
       "    </tr>\n",
       "    <tr>\n",
       "      <th>1</th>\n",
       "      <td>0</td>\n",
       "      <td>0</td>\n",
       "      <td>0</td>\n",
       "      <td>0</td>\n",
       "      <td>0</td>\n",
       "      <td>0</td>\n",
       "      <td>0</td>\n",
       "      <td>0</td>\n",
       "      <td>0</td>\n",
       "      <td>0</td>\n",
       "      <td>...</td>\n",
       "      <td>0</td>\n",
       "      <td>0</td>\n",
       "      <td>0</td>\n",
       "      <td>0</td>\n",
       "      <td>0</td>\n",
       "      <td>0</td>\n",
       "      <td>0</td>\n",
       "      <td>0</td>\n",
       "      <td>0</td>\n",
       "      <td>0</td>\n",
       "    </tr>\n",
       "    <tr>\n",
       "      <th>2</th>\n",
       "      <td>0</td>\n",
       "      <td>0</td>\n",
       "      <td>0</td>\n",
       "      <td>0</td>\n",
       "      <td>0</td>\n",
       "      <td>0</td>\n",
       "      <td>0</td>\n",
       "      <td>0</td>\n",
       "      <td>0</td>\n",
       "      <td>0</td>\n",
       "      <td>...</td>\n",
       "      <td>0</td>\n",
       "      <td>0</td>\n",
       "      <td>0</td>\n",
       "      <td>0</td>\n",
       "      <td>0</td>\n",
       "      <td>0</td>\n",
       "      <td>0</td>\n",
       "      <td>0</td>\n",
       "      <td>0</td>\n",
       "      <td>0</td>\n",
       "    </tr>\n",
       "    <tr>\n",
       "      <th>3</th>\n",
       "      <td>0</td>\n",
       "      <td>0</td>\n",
       "      <td>0</td>\n",
       "      <td>0</td>\n",
       "      <td>0</td>\n",
       "      <td>0</td>\n",
       "      <td>0</td>\n",
       "      <td>0</td>\n",
       "      <td>0</td>\n",
       "      <td>0</td>\n",
       "      <td>...</td>\n",
       "      <td>0</td>\n",
       "      <td>0</td>\n",
       "      <td>0</td>\n",
       "      <td>0</td>\n",
       "      <td>0</td>\n",
       "      <td>0</td>\n",
       "      <td>0</td>\n",
       "      <td>0</td>\n",
       "      <td>0</td>\n",
       "      <td>0</td>\n",
       "    </tr>\n",
       "    <tr>\n",
       "      <th>4</th>\n",
       "      <td>0</td>\n",
       "      <td>0</td>\n",
       "      <td>0</td>\n",
       "      <td>0</td>\n",
       "      <td>0</td>\n",
       "      <td>0</td>\n",
       "      <td>0</td>\n",
       "      <td>0</td>\n",
       "      <td>0</td>\n",
       "      <td>0</td>\n",
       "      <td>...</td>\n",
       "      <td>0</td>\n",
       "      <td>0</td>\n",
       "      <td>0</td>\n",
       "      <td>0</td>\n",
       "      <td>0</td>\n",
       "      <td>0</td>\n",
       "      <td>0</td>\n",
       "      <td>0</td>\n",
       "      <td>0</td>\n",
       "      <td>0</td>\n",
       "    </tr>\n",
       "  </tbody>\n",
       "</table>\n",
       "<p>5 rows × 784 columns</p>\n",
       "</div>"
      ],
      "text/plain": [
       "   pixel0  pixel1  pixel2  pixel3  pixel4  pixel5  pixel6  pixel7  pixel8  \\\n",
       "0       0       0       0       0       0       0       0       0       0   \n",
       "1       0       0       0       0       0       0       0       0       0   \n",
       "2       0       0       0       0       0       0       0       0       0   \n",
       "3       0       0       0       0       0       0       0       0       0   \n",
       "4       0       0       0       0       0       0       0       0       0   \n",
       "\n",
       "   pixel9  ...  pixel774  pixel775  pixel776  pixel777  pixel778  pixel779  \\\n",
       "0       0  ...         0         0         0         0         0         0   \n",
       "1       0  ...         0         0         0         0         0         0   \n",
       "2       0  ...         0         0         0         0         0         0   \n",
       "3       0  ...         0         0         0         0         0         0   \n",
       "4       0  ...         0         0         0         0         0         0   \n",
       "\n",
       "   pixel780  pixel781  pixel782  pixel783  \n",
       "0         0         0         0         0  \n",
       "1         0         0         0         0  \n",
       "2         0         0         0         0  \n",
       "3         0         0         0         0  \n",
       "4         0         0         0         0  \n",
       "\n",
       "[5 rows x 784 columns]"
      ]
     },
     "execution_count": 5,
     "metadata": {},
     "output_type": "execute_result"
    }
   ],
   "source": [
    "data_test.head()"
   ]
  },
  {
   "cell_type": "code",
   "execution_count": 6,
   "metadata": {},
   "outputs": [
    {
     "data": {
      "text/plain": [
       "(42000, 785)"
      ]
     },
     "execution_count": 6,
     "metadata": {},
     "output_type": "execute_result"
    }
   ],
   "source": [
    "data_train.shape"
   ]
  },
  {
   "cell_type": "code",
   "execution_count": 7,
   "metadata": {},
   "outputs": [
    {
     "data": {
      "text/plain": [
       "(28000, 784)"
      ]
     },
     "execution_count": 7,
     "metadata": {},
     "output_type": "execute_result"
    }
   ],
   "source": [
    "data_test.shape"
   ]
  },
  {
   "cell_type": "code",
   "execution_count": 8,
   "metadata": {},
   "outputs": [
    {
     "data": {
      "text/plain": [
       "label     int64\n",
       "pixel0    int64\n",
       "pixel1    int64\n",
       "pixel2    int64\n",
       "pixel3    int64\n",
       "dtype: object"
      ]
     },
     "execution_count": 8,
     "metadata": {},
     "output_type": "execute_result"
    }
   ],
   "source": [
    "data_train.dtypes.head()"
   ]
  },
  {
   "cell_type": "markdown",
   "metadata": {},
   "source": [
    "## Simple input digits visualization"
   ]
  },
  {
   "cell_type": "code",
   "execution_count": 9,
   "metadata": {},
   "outputs": [
    {
     "data": {
      "text/plain": [
       "<matplotlib.image.AxesImage at 0x7f9d71e22860>"
      ]
     },
     "execution_count": 9,
     "metadata": {},
     "output_type": "execute_result"
    },
    {
     "data": {
      "image/png": "[encoded data removed]",
      "text/plain": [
       "<Figure size 432x288 with 1 Axes>"
      ]
     },
     "metadata": {},
     "output_type": "display_data"
    }
   ],
   "source": [
    "plt.imshow(data_train.drop(columns=['label'], axis=1).loc[0].values.reshape(28,28))"
   ]
  },
  {
   "cell_type": "code",
   "execution_count": 10,
   "metadata": {},
   "outputs": [
    {
     "data": {
      "text/plain": [
       "<matplotlib.image.AxesImage at 0x7f9d71f0d128>"
      ]
     },
     "execution_count": 10,
     "metadata": {},
     "output_type": "execute_result"
    },
    {
     "data": {
      "image/png": "[encoded data removed]",
      "text/plain": [
       "<Figure size 432x288 with 1 Axes>"
      ]
     },
     "metadata": {},
     "output_type": "display_data"
    }
   ],
   "source": [
    "plt.imshow(data_train.drop(columns=['label'], axis=1).loc[1].values.reshape(28,28))"
   ]
  },
  {
   "cell_type": "code",
   "execution_count": 11,
   "metadata": {},
   "outputs": [
    {
     "data": {
      "text/plain": [
       "<matplotlib.image.AxesImage at 0x7f9d71e65898>"
      ]
     },
     "execution_count": 11,
     "metadata": {},
     "output_type": "execute_result"
    },
    {
     "data": {
      "image/png": "[encoded data removed]",
      "text/plain": [
       "<Figure size 432x288 with 1 Axes>"
      ]
     },
     "metadata": {},
     "output_type": "display_data"
    }
   ],
   "source": [
    "plt.imshow(data_train.drop(columns=['label'], axis=1).loc[3].values.reshape(28,28))"
   ]
  },
  {
   "cell_type": "code",
   "execution_count": 12,
   "metadata": {},
   "outputs": [
    {
     "data": {
      "text/plain": [
       "<matplotlib.image.AxesImage at 0x7f9d71bf1940>"
      ]
     },
     "execution_count": 12,
     "metadata": {},
     "output_type": "execute_result"
    },
    {
     "data": {
      "image/png": "[encoded data removed]",
      "text/plain": [
       "<Figure size 432x288 with 1 Axes>"
      ]
     },
     "metadata": {},
     "output_type": "display_data"
    }
   ],
   "source": [
    "plt.imshow(data_test.loc[2].values.reshape(28,28))"
   ]
  },
  {
   "cell_type": "markdown",
   "metadata": {},
   "source": [
    "## Data Modelling with Preprocessing"
   ]
  },
  {
   "cell_type": "code",
   "execution_count": 13,
   "metadata": {},
   "outputs": [],
   "source": [
    "X_train = data_train.drop(columns=['label'], axis=1)\n",
    "X_test = data_test\n",
    "y_train = data_train['label']"
   ]
  },
  {
   "cell_type": "code",
   "execution_count": 14,
   "metadata": {},
   "outputs": [],
   "source": [
    "X_train = X_train / 255.0\n",
    "X_test = X_test / 255.0"
   ]
  },
  {
   "cell_type": "code",
   "execution_count": 15,
   "metadata": {},
   "outputs": [],
   "source": [
    "X_train = X_train.values.reshape(X_train.shape[0], 28, 28,1)\n",
    "X_test = X_test.values.reshape(X_test.shape[0], 28, 28,1)"
   ]
  },
  {
   "cell_type": "code",
   "execution_count": 16,
   "metadata": {},
   "outputs": [
    {
     "data": {
      "text/plain": [
       "(42000, 28, 28, 1)"
      ]
     },
     "execution_count": 16,
     "metadata": {},
     "output_type": "execute_result"
    }
   ],
   "source": [
    "X_train.shape"
   ]
  },
  {
   "cell_type": "code",
   "execution_count": 17,
   "metadata": {},
   "outputs": [
    {
     "data": {
      "text/plain": [
       "(28000, 28, 28, 1)"
      ]
     },
     "execution_count": 17,
     "metadata": {},
     "output_type": "execute_result"
    }
   ],
   "source": [
    "X_test.shape"
   ]
  },
  {
   "cell_type": "code",
   "execution_count": 18,
   "metadata": {},
   "outputs": [],
   "source": [
    "y_train = to_categorical(y_train, num_classes=10, dtype='int64')"
   ]
  },
  {
   "cell_type": "code",
   "execution_count": 19,
   "metadata": {},
   "outputs": [
    {
     "data": {
      "text/plain": [
       "array([[0, 1, 0, ..., 0, 0, 0],\n",
       "       [1, 0, 0, ..., 0, 0, 0],\n",
       "       [0, 1, 0, ..., 0, 0, 0],\n",
       "       ...,\n",
       "       [0, 0, 0, ..., 1, 0, 0],\n",
       "       [0, 0, 0, ..., 0, 0, 0],\n",
       "       [0, 0, 0, ..., 0, 0, 1]])"
      ]
     },
     "execution_count": 19,
     "metadata": {},
     "output_type": "execute_result"
    }
   ],
   "source": [
    "y_train"
   ]
  },
  {
   "cell_type": "code",
   "execution_count": 20,
   "metadata": {},
   "outputs": [],
   "source": [
    "# # Image Data Generator (augmentation)\n",
    "\n",
    "# datagen = ImageDataGenerator(\n",
    "#     featurewise_center=True,\n",
    "#     featurewise_std_normalization=True,\n",
    "#     rotation_range=20,\n",
    "#     width_shift_range=0.2,\n",
    "#     height_shift_range=0.2,\n",
    "#     horizontal_flip=True)"
   ]
  },
  {
   "cell_type": "code",
   "execution_count": 21,
   "metadata": {},
   "outputs": [],
   "source": [
    "# datagen.fit(X_train, augment=True)"
   ]
  },
  {
   "cell_type": "markdown",
   "metadata": {},
   "source": [
    "## Model Initialization"
   ]
  },
  {
   "cell_type": "code",
   "execution_count": 22,
   "metadata": {},
   "outputs": [],
   "source": [
    "# Pooling layer\n",
    "# BatchNormalization() ?\n",
    "# Conv2D ... Dense with softmax"
   ]
  },
  {
   "cell_type": "code",
   "execution_count": 23,
   "metadata": {},
   "outputs": [
    {
     "name": "stderr",
     "output_type": "stream",
     "text": [
      "WARNING: Logging before flag parsing goes to stderr.\n",
      "W0706 17:56:34.877942 140315644442432 deprecation_wrapper.py:119] From /home/wjmaj/.local/lib/python3.6/site-packages/keras/backend/tensorflow_backend.py:74: The name tf.get_default_graph is deprecated. Please use tf.compat.v1.get_default_graph instead.\n",
      "\n"
     ]
    }
   ],
   "source": [
    "model = Sequential()"
   ]
  },
  {
   "cell_type": "code",
   "execution_count": 24,
   "metadata": {},
   "outputs": [
    {
     "name": "stderr",
     "output_type": "stream",
     "text": [
      "W0706 17:56:34.912388 140315644442432 deprecation_wrapper.py:119] From /home/wjmaj/.local/lib/python3.6/site-packages/keras/backend/tensorflow_backend.py:517: The name tf.placeholder is deprecated. Please use tf.compat.v1.placeholder instead.\n",
      "\n",
      "W0706 17:56:34.922276 140315644442432 deprecation_wrapper.py:119] From /home/wjmaj/.local/lib/python3.6/site-packages/keras/backend/tensorflow_backend.py:4138: The name tf.random_uniform is deprecated. Please use tf.random.uniform instead.\n",
      "\n",
      "W0706 17:56:34.951122 140315644442432 deprecation_wrapper.py:119] From /home/wjmaj/.local/lib/python3.6/site-packages/keras/backend/tensorflow_backend.py:3976: The name tf.nn.max_pool is deprecated. Please use tf.nn.max_pool2d instead.\n",
      "\n",
      "W0706 17:56:34.954470 140315644442432 deprecation_wrapper.py:119] From /home/wjmaj/.local/lib/python3.6/site-packages/keras/backend/tensorflow_backend.py:133: The name tf.placeholder_with_default is deprecated. Please use tf.compat.v1.placeholder_with_default instead.\n",
      "\n",
      "W0706 17:56:34.962588 140315644442432 deprecation.py:506] From /home/wjmaj/.local/lib/python3.6/site-packages/keras/backend/tensorflow_backend.py:3445: calling dropout (from tensorflow.python.ops.nn_ops) with keep_prob is deprecated and will be removed in a future version.\n",
      "Instructions for updating:\n",
      "Please use `rate` instead of `keep_prob`. Rate should be set to `rate = 1 - keep_prob`.\n"
     ]
    }
   ],
   "source": [
    "model.add(Conv2D(filters=32, kernel_size=(3, 3), activation='relu', input_shape=(28, 28, 1)))\n",
    "model.add(Conv2D(filters=32, kernel_size=(3, 3), activation='relu'))\n",
    "model.add(MaxPooling2D(pool_size=(2, 2)))\n",
    "\n",
    "model.add(Dropout(0.25))\n",
    "\n",
    "model.add(Conv2D(64, (3, 3), activation='relu'))\n",
    "model.add(Conv2D(64, (3, 3), activation='relu'))\n",
    "model.add(MaxPooling2D(pool_size=(2, 2)))\n",
    "\n",
    "model.add(Dropout(0.25))\n",
    "\n",
    "model.add(Flatten())\n",
    "\n",
    "model.add(Dense(256, activation='relu'))\n",
    "model.add(Dropout(0.5))\n",
    "model.add(Dense(10, activation='softmax'))"
   ]
  },
  {
   "cell_type": "code",
   "execution_count": 25,
   "metadata": {},
   "outputs": [],
   "source": [
    "sgd = SGD(lr=0.01, momentum=0.9, decay=0.0, nesterov=True)"
   ]
  },
  {
   "cell_type": "markdown",
   "metadata": {},
   "source": [
    "## Evaluation"
   ]
  },
  {
   "cell_type": "code",
   "execution_count": 26,
   "metadata": {},
   "outputs": [
    {
     "name": "stderr",
     "output_type": "stream",
     "text": [
      "W0706 17:56:35.075685 140315644442432 deprecation_wrapper.py:119] From /home/wjmaj/.local/lib/python3.6/site-packages/keras/optimizers.py:790: The name tf.train.Optimizer is deprecated. Please use tf.compat.v1.train.Optimizer instead.\n",
      "\n",
      "W0706 17:56:35.084413 140315644442432 deprecation_wrapper.py:119] From /home/wjmaj/.local/lib/python3.6/site-packages/keras/backend/tensorflow_backend.py:3295: The name tf.log is deprecated. Please use tf.math.log instead.\n",
      "\n"
     ]
    }
   ],
   "source": [
    "model.compile(loss='categorical_crossentropy', optimizer=sgd, metrics=[\"accuracy\"])"
   ]
  },
  {
   "cell_type": "code",
   "execution_count": 27,
   "metadata": {},
   "outputs": [
    {
     "name": "stderr",
     "output_type": "stream",
     "text": [
      "W0706 17:56:35.252958 140315644442432 deprecation.py:323] From /home/wjmaj/.local/lib/python3.6/site-packages/tensorflow/python/ops/math_grad.py:1250: add_dispatch_support.<locals>.wrapper (from tensorflow.python.ops.array_ops) is deprecated and will be removed in a future version.\n",
      "Instructions for updating:\n",
      "Use tf.where in 2.0, which has the same broadcast rule as np.where\n"
     ]
    },
    {
     "name": "stdout",
     "output_type": "stream",
     "text": [
      "Epoch 1/100\n",
      "42000/42000 [==============================] - 68s 2ms/step - loss: 0.3143 - acc: 0.8981\n",
      "Epoch 2/100\n",
      "42000/42000 [==============================] - 93s 2ms/step - loss: 0.0997 - acc: 0.9691\n",
      "Epoch 3/100\n",
      "42000/42000 [==============================] - 90s 2ms/step - loss: 0.0740 - acc: 0.9767\n",
      "Epoch 4/100\n",
      "42000/42000 [==============================] - 87s 2ms/step - loss: 0.0589 - acc: 0.9823\n",
      "Epoch 5/100\n",
      "42000/42000 [==============================] - 88s 2ms/step - loss: 0.0507 - acc: 0.9845\n",
      "Epoch 6/100\n",
      "42000/42000 [==============================] - 97s 2ms/step - loss: 0.0460 - acc: 0.9856\n",
      "Epoch 7/100\n",
      "42000/42000 [==============================] - 95s 2ms/step - loss: 0.0406 - acc: 0.9873\n",
      "Epoch 8/100\n",
      "42000/42000 [==============================] - 85s 2ms/step - loss: 0.0373 - acc: 0.9882\n",
      "Epoch 9/100\n",
      "42000/42000 [==============================] - 91s 2ms/step - loss: 0.0346 - acc: 0.9892\n",
      "Epoch 10/100\n",
      "42000/42000 [==============================] - 92s 2ms/step - loss: 0.0306 - acc: 0.9903\n",
      "Epoch 11/100\n",
      "42000/42000 [==============================] - 98s 2ms/step - loss: 0.0307 - acc: 0.9908\n",
      "Epoch 12/100\n",
      "42000/42000 [==============================] - 106s 3ms/step - loss: 0.0276 - acc: 0.9909\n",
      "Epoch 13/100\n",
      "42000/42000 [==============================] - 96s 2ms/step - loss: 0.0268 - acc: 0.9916\n",
      "Epoch 14/100\n",
      "42000/42000 [==============================] - 94s 2ms/step - loss: 0.0258 - acc: 0.9915\n",
      "Epoch 15/100\n",
      "42000/42000 [==============================] - 110s 3ms/step - loss: 0.0259 - acc: 0.9916\n",
      "Epoch 16/100\n",
      "42000/42000 [==============================] - 96s 2ms/step - loss: 0.0207 - acc: 0.9930\n",
      "Epoch 17/100\n",
      "42000/42000 [==============================] - 87s 2ms/step - loss: 0.0211 - acc: 0.9934\n",
      "Epoch 18/100\n",
      "42000/42000 [==============================] - 96s 2ms/step - loss: 0.0205 - acc: 0.9937\n",
      "Epoch 19/100\n",
      "42000/42000 [==============================] - 91s 2ms/step - loss: 0.0197 - acc: 0.9936\n",
      "Epoch 20/100\n",
      "42000/42000 [==============================] - 94s 2ms/step - loss: 0.0189 - acc: 0.9942\n",
      "Epoch 21/100\n",
      "42000/42000 [==============================] - 89s 2ms/step - loss: 0.0187 - acc: 0.9939\n",
      "Epoch 22/100\n",
      "42000/42000 [==============================] - 84s 2ms/step - loss: 0.0168 - acc: 0.9946\n",
      "Epoch 23/100\n",
      "42000/42000 [==============================] - 89s 2ms/step - loss: 0.0163 - acc: 0.9948\n",
      "Epoch 24/100\n",
      "42000/42000 [==============================] - 102s 2ms/step - loss: 0.0166 - acc: 0.9945\n",
      "Epoch 25/100\n",
      "42000/42000 [==============================] - 104s 2ms/step - loss: 0.0147 - acc: 0.9958\n",
      "Epoch 26/100\n",
      "42000/42000 [==============================] - 94s 2ms/step - loss: 0.0154 - acc: 0.9951\n",
      "Epoch 27/100\n",
      "42000/42000 [==============================] - 95s 2ms/step - loss: 0.0147 - acc: 0.9950\n",
      "Epoch 28/100\n",
      "42000/42000 [==============================] - 95s 2ms/step - loss: 0.0150 - acc: 0.9953\n",
      "Epoch 29/100\n",
      "42000/42000 [==============================] - 94s 2ms/step - loss: 0.0133 - acc: 0.9956\n",
      "Epoch 30/100\n",
      "42000/42000 [==============================] - 84s 2ms/step - loss: 0.0132 - acc: 0.9955\n",
      "Epoch 31/100\n",
      "42000/42000 [==============================] - 84s 2ms/step - loss: 0.0134 - acc: 0.9955\n",
      "Epoch 32/100\n",
      "42000/42000 [==============================] - 83s 2ms/step - loss: 0.0133 - acc: 0.9957\n",
      "Epoch 33/100\n",
      "42000/42000 [==============================] - 87s 2ms/step - loss: 0.0118 - acc: 0.9960\n",
      "Epoch 34/100\n",
      "42000/42000 [==============================] - 105s 2ms/step - loss: 0.0119 - acc: 0.9962\n",
      "Epoch 35/100\n",
      "42000/42000 [==============================] - 89s 2ms/step - loss: 0.0110 - acc: 0.9963\n",
      "Epoch 36/100\n",
      "42000/42000 [==============================] - 100s 2ms/step - loss: 0.0127 - acc: 0.9957\n",
      "Epoch 37/100\n",
      "42000/42000 [==============================] - 98s 2ms/step - loss: 0.0096 - acc: 0.9970\n",
      "Epoch 38/100\n",
      "42000/42000 [==============================] - 97s 2ms/step - loss: 0.0100 - acc: 0.9966\n",
      "Epoch 39/100\n",
      "42000/42000 [==============================] - 93s 2ms/step - loss: 0.0115 - acc: 0.9962\n",
      "Epoch 40/100\n",
      "42000/42000 [==============================] - 92s 2ms/step - loss: 0.0104 - acc: 0.9965\n",
      "Epoch 41/100\n",
      "42000/42000 [==============================] - 84s 2ms/step - loss: 0.0101 - acc: 0.9968\n",
      "Epoch 42/100\n",
      "42000/42000 [==============================] - 81s 2ms/step - loss: 0.0106 - acc: 0.9962\n",
      "Epoch 43/100\n",
      "42000/42000 [==============================] - 81s 2ms/step - loss: 0.0100 - acc: 0.9969\n",
      "Epoch 44/100\n",
      "42000/42000 [==============================] - 82s 2ms/step - loss: 0.0106 - acc: 0.9967\n",
      "Epoch 45/100\n",
      "42000/42000 [==============================] - 81s 2ms/step - loss: 0.0099 - acc: 0.9968\n",
      "Epoch 46/100\n",
      "42000/42000 [==============================] - 80s 2ms/step - loss: 0.0102 - acc: 0.9966\n",
      "Epoch 47/100\n",
      "42000/42000 [==============================] - 80s 2ms/step - loss: 0.0083 - acc: 0.9972\n",
      "Epoch 48/100\n",
      "42000/42000 [==============================] - 80s 2ms/step - loss: 0.0090 - acc: 0.9975\n",
      "Epoch 49/100\n",
      "42000/42000 [==============================] - 80s 2ms/step - loss: 0.0101 - acc: 0.9969\n",
      "Epoch 50/100\n",
      "42000/42000 [==============================] - 80s 2ms/step - loss: 0.0080 - acc: 0.9973\n",
      "Epoch 51/100\n",
      "42000/42000 [==============================] - 80s 2ms/step - loss: 0.0082 - acc: 0.9973\n",
      "Epoch 52/100\n",
      "42000/42000 [==============================] - 84s 2ms/step - loss: 0.0098 - acc: 0.9971\n",
      "Epoch 53/100\n",
      "42000/42000 [==============================] - 105s 2ms/step - loss: 0.0085 - acc: 0.9975\n",
      "Epoch 54/100\n",
      "42000/42000 [==============================] - 96s 2ms/step - loss: 0.0087 - acc: 0.9977\n",
      "Epoch 55/100\n",
      "42000/42000 [==============================] - 91s 2ms/step - loss: 0.0085 - acc: 0.9973\n",
      "Epoch 56/100\n",
      "42000/42000 [==============================] - 90s 2ms/step - loss: 0.0082 - acc: 0.9973\n",
      "Epoch 57/100\n",
      "42000/42000 [==============================] - 90s 2ms/step - loss: 0.0071 - acc: 0.9979\n",
      "Epoch 58/100\n",
      "42000/42000 [==============================] - 92s 2ms/step - loss: 0.0082 - acc: 0.9973\n",
      "Epoch 59/100\n",
      "42000/42000 [==============================] - 90s 2ms/step - loss: 0.0089 - acc: 0.9972\n",
      "Epoch 60/100\n",
      "42000/42000 [==============================] - 95s 2ms/step - loss: 0.0084 - acc: 0.9973\n",
      "Epoch 61/100\n",
      "42000/42000 [==============================] - 95s 2ms/step - loss: 0.0087 - acc: 0.9974\n",
      "Epoch 62/100\n",
      "42000/42000 [==============================] - 98s 2ms/step - loss: 0.0069 - acc: 0.9978\n",
      "Epoch 63/100\n",
      "42000/42000 [==============================] - 88s 2ms/step - loss: 0.0073 - acc: 0.9976\n",
      "Epoch 64/100\n",
      "42000/42000 [==============================] - 89s 2ms/step - loss: 0.0058 - acc: 0.9981\n",
      "Epoch 65/100\n",
      "42000/42000 [==============================] - 86s 2ms/step - loss: 0.0069 - acc: 0.9979\n",
      "Epoch 66/100\n",
      "42000/42000 [==============================] - 93s 2ms/step - loss: 0.0062 - acc: 0.9982\n",
      "Epoch 67/100\n",
      "42000/42000 [==============================] - 83s 2ms/step - loss: 0.0064 - acc: 0.9983\n",
      "Epoch 68/100\n",
      "42000/42000 [==============================] - 89s 2ms/step - loss: 0.0067 - acc: 0.9978\n",
      "Epoch 69/100\n",
      "42000/42000 [==============================] - 101s 2ms/step - loss: 0.0065 - acc: 0.9980\n",
      "Epoch 70/100\n",
      "42000/42000 [==============================] - 86s 2ms/step - loss: 0.0068 - acc: 0.9976\n",
      "Epoch 71/100\n",
      "42000/42000 [==============================] - 81s 2ms/step - loss: 0.0067 - acc: 0.9980\n",
      "Epoch 72/100\n",
      "42000/42000 [==============================] - 81s 2ms/step - loss: 0.0073 - acc: 0.9976\n",
      "Epoch 73/100\n",
      "42000/42000 [==============================] - 81s 2ms/step - loss: 0.0066 - acc: 0.9977\n",
      "Epoch 74/100\n",
      "42000/42000 [==============================] - 82s 2ms/step - loss: 0.0060 - acc: 0.9981\n",
      "Epoch 75/100\n",
      "42000/42000 [==============================] - 91s 2ms/step - loss: 0.0068 - acc: 0.9977\n",
      "Epoch 76/100\n",
      "42000/42000 [==============================] - 98s 2ms/step - loss: 0.0064 - acc: 0.9979\n",
      "Epoch 77/100\n",
      "42000/42000 [==============================] - 91s 2ms/step - loss: 0.0076 - acc: 0.9977\n",
      "Epoch 78/100\n",
      "42000/42000 [==============================] - 100s 2ms/step - loss: 0.0056 - acc: 0.9984\n",
      "Epoch 79/100\n",
      "42000/42000 [==============================] - 96s 2ms/step - loss: 0.0053 - acc: 0.9984\n",
      "Epoch 80/100\n",
      "42000/42000 [==============================] - 92s 2ms/step - loss: 0.0077 - acc: 0.9976\n",
      "Epoch 81/100\n"
     ]
    },
    {
     "name": "stdout",
     "output_type": "stream",
     "text": [
      "42000/42000 [==============================] - 87s 2ms/step - loss: 0.0073 - acc: 0.9978\n",
      "Epoch 82/100\n",
      "42000/42000 [==============================] - 85s 2ms/step - loss: 0.0052 - acc: 0.9982\n",
      "Epoch 83/100\n",
      "42000/42000 [==============================] - 89s 2ms/step - loss: 0.0064 - acc: 0.9979\n",
      "Epoch 84/100\n",
      "42000/42000 [==============================] - 105s 2ms/step - loss: 0.0057 - acc: 0.9984\n",
      "Epoch 85/100\n",
      "42000/42000 [==============================] - 88s 2ms/step - loss: 0.0070 - acc: 0.9978\n",
      "Epoch 86/100\n",
      "42000/42000 [==============================] - 92s 2ms/step - loss: 0.0053 - acc: 0.9983\n",
      "Epoch 87/100\n",
      "42000/42000 [==============================] - 90s 2ms/step - loss: 0.0068 - acc: 0.9978\n",
      "Epoch 88/100\n",
      "42000/42000 [==============================] - 96s 2ms/step - loss: 0.0062 - acc: 0.9980\n",
      "Epoch 89/100\n",
      "42000/42000 [==============================] - 90s 2ms/step - loss: 0.0064 - acc: 0.9977\n",
      "Epoch 90/100\n",
      "42000/42000 [==============================] - 88s 2ms/step - loss: 0.0046 - acc: 0.9987\n",
      "Epoch 91/100\n",
      "42000/42000 [==============================] - 88s 2ms/step - loss: 0.0046 - acc: 0.9986\n",
      "Epoch 92/100\n",
      "42000/42000 [==============================] - 88s 2ms/step - loss: 0.0066 - acc: 0.9977\n",
      "Epoch 93/100\n",
      "42000/42000 [==============================] - 88s 2ms/step - loss: 0.0066 - acc: 0.9979\n",
      "Epoch 94/100\n",
      "42000/42000 [==============================] - 86s 2ms/step - loss: 0.0048 - acc: 0.9985\n",
      "Epoch 95/100\n",
      "42000/42000 [==============================] - 85s 2ms/step - loss: 0.0063 - acc: 0.9981\n",
      "Epoch 96/100\n",
      "42000/42000 [==============================] - 85s 2ms/step - loss: 0.0054 - acc: 0.9984\n",
      "Epoch 97/100\n",
      "42000/42000 [==============================] - 85s 2ms/step - loss: 0.0068 - acc: 0.9978\n",
      "Epoch 98/100\n",
      "42000/42000 [==============================] - 86s 2ms/step - loss: 0.0052 - acc: 0.9984\n",
      "Epoch 99/100\n",
      "42000/42000 [==============================] - 86s 2ms/step - loss: 0.0053 - acc: 0.9981\n",
      "Epoch 100/100\n",
      "42000/42000 [==============================] - 85s 2ms/step - loss: 0.0048 - acc: 0.9983\n"
     ]
    },
    {
     "data": {
      "text/plain": [
       "<keras.callbacks.History at 0x7f9d71ba67f0>"
      ]
     },
     "execution_count": 27,
     "metadata": {},
     "output_type": "execute_result"
    }
   ],
   "source": [
    "model.fit(X_train, y_train, batch_size=32, epochs=100)\n",
    "# model.fit_generator(datagen.flow(X_train, y_train, batch_size=32), steps_per_epoch=len(X_train)/42, epochs=100)"
   ]
  },
  {
   "cell_type": "markdown",
   "metadata": {},
   "source": [
    "## Feedback"
   ]
  },
  {
   "cell_type": "code",
   "execution_count": 28,
   "metadata": {},
   "outputs": [],
   "source": [
    "# score = model.evaluate(X_train, y_train, batch_size=32)"
   ]
  },
  {
   "cell_type": "code",
   "execution_count": 29,
   "metadata": {},
   "outputs": [
    {
     "data": {
      "text/plain": [
       "array([2, 0, 9, ..., 3, 9, 2])"
      ]
     },
     "execution_count": 29,
     "metadata": {},
     "output_type": "execute_result"
    }
   ],
   "source": [
    "predictions = model.predict_classes(X_test)\n",
    "predictions"
   ]
  },
  {
   "cell_type": "code",
   "execution_count": 30,
   "metadata": {},
   "outputs": [],
   "source": [
    "# score"
   ]
  },
  {
   "cell_type": "code",
   "execution_count": 31,
   "metadata": {},
   "outputs": [],
   "source": [
    "pd.DataFrame(predictions).to_csv('submission_new.csv')"
   ]
  }
 ],
 "metadata": {
  "kernelspec": {
   "display_name": "Python 3",
   "language": "python",
   "name": "python3"
  },
  "language_info": {
   "codemirror_mode": {
    "name": "ipython",
    "version": 3
   },
   "file_extension": ".py",
   "mimetype": "text/x-python",
   "name": "python",
   "nbconvert_exporter": "python",
   "pygments_lexer": "ipython3",
   "version": "3.6.8"
  }
 },
 "nbformat": 4,
 "nbformat_minor": 2
}
